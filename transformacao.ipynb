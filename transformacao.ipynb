{
 "cells": [
  {
   "cell_type": "code",
   "execution_count": 1,
   "metadata": {},
   "outputs": [],
   "source": [
    "import pandas as pd"
   ]
  },
  {
   "cell_type": "code",
   "execution_count": 2,
   "metadata": {},
   "outputs": [],
   "source": [
    "df = pd.read_csv('dados/raw_vendas.csv')"
   ]
  },
  {
   "cell_type": "code",
   "execution_count": 3,
   "metadata": {},
   "outputs": [
    {
     "data": {
      "text/html": [
       "<div>\n",
       "<style scoped>\n",
       "    .dataframe tbody tr th:only-of-type {\n",
       "        vertical-align: middle;\n",
       "    }\n",
       "\n",
       "    .dataframe tbody tr th {\n",
       "        vertical-align: top;\n",
       "    }\n",
       "\n",
       "    .dataframe thead th {\n",
       "        text-align: right;\n",
       "    }\n",
       "</style>\n",
       "<table border=\"1\" class=\"dataframe\">\n",
       "  <thead>\n",
       "    <tr style=\"text-align: right;\">\n",
       "      <th></th>\n",
       "      <th>Unnamed: 0</th>\n",
       "      <th>produto</th>\n",
       "      <th>categoria</th>\n",
       "      <th>preco</th>\n",
       "      <th>frete</th>\n",
       "      <th>data_compra</th>\n",
       "      <th>vendedor</th>\n",
       "      <th>local_compra</th>\n",
       "      <th>avaliacao</th>\n",
       "      <th>tipo_pagamento</th>\n",
       "      <th>parcelas</th>\n",
       "    </tr>\n",
       "  </thead>\n",
       "  <tbody>\n",
       "    <tr>\n",
       "      <th>0</th>\n",
       "      <td>0</td>\n",
       "      <td>Modelagem preditiva</td>\n",
       "      <td>livros</td>\n",
       "      <td>92.45</td>\n",
       "      <td>5.609697</td>\n",
       "      <td>01/01/2020</td>\n",
       "      <td>Thiago Silva</td>\n",
       "      <td>BA</td>\n",
       "      <td>1</td>\n",
       "      <td>cartao_credito</td>\n",
       "      <td>3</td>\n",
       "    </tr>\n",
       "    <tr>\n",
       "      <th>1</th>\n",
       "      <td>1</td>\n",
       "      <td>Iniciando em programação</td>\n",
       "      <td>livros</td>\n",
       "      <td>43.84</td>\n",
       "      <td>0.000000</td>\n",
       "      <td>01/01/2020</td>\n",
       "      <td>Mariana Ferreira</td>\n",
       "      <td>SP</td>\n",
       "      <td>5</td>\n",
       "      <td>cartao_credito</td>\n",
       "      <td>1</td>\n",
       "    </tr>\n",
       "    <tr>\n",
       "      <th>2</th>\n",
       "      <td>2</td>\n",
       "      <td>Pandeiro</td>\n",
       "      <td>instrumentos musicais</td>\n",
       "      <td>87.18</td>\n",
       "      <td>2.226512</td>\n",
       "      <td>01/01/2020</td>\n",
       "      <td>Thiago Silva</td>\n",
       "      <td>RJ</td>\n",
       "      <td>4</td>\n",
       "      <td>cartao_credito</td>\n",
       "      <td>4</td>\n",
       "    </tr>\n",
       "    <tr>\n",
       "      <th>3</th>\n",
       "      <td>3</td>\n",
       "      <td>Corda de pular</td>\n",
       "      <td>esporte e lazer</td>\n",
       "      <td>13.65</td>\n",
       "      <td>1.257926</td>\n",
       "      <td>01/01/2020</td>\n",
       "      <td>Camila Ribeiro</td>\n",
       "      <td>RJ</td>\n",
       "      <td>4</td>\n",
       "      <td>boleto</td>\n",
       "      <td>1</td>\n",
       "    </tr>\n",
       "    <tr>\n",
       "      <th>4</th>\n",
       "      <td>4</td>\n",
       "      <td>Dinossauro Rex</td>\n",
       "      <td>brinquedos</td>\n",
       "      <td>28.32</td>\n",
       "      <td>2.039059</td>\n",
       "      <td>01/01/2020</td>\n",
       "      <td>Juliana Costa</td>\n",
       "      <td>RJ</td>\n",
       "      <td>1</td>\n",
       "      <td>cartao_debito</td>\n",
       "      <td>1</td>\n",
       "    </tr>\n",
       "  </tbody>\n",
       "</table>\n",
       "</div>"
      ],
      "text/plain": [
       "   Unnamed: 0                   produto              categoria  preco   \n",
       "0           0       Modelagem preditiva                 livros  92.45  \\\n",
       "1           1  Iniciando em programação                 livros  43.84   \n",
       "2           2                  Pandeiro  instrumentos musicais  87.18   \n",
       "3           3            Corda de pular        esporte e lazer  13.65   \n",
       "4           4            Dinossauro Rex             brinquedos  28.32   \n",
       "\n",
       "      frete data_compra          vendedor local_compra  avaliacao   \n",
       "0  5.609697  01/01/2020      Thiago Silva           BA          1  \\\n",
       "1  0.000000  01/01/2020  Mariana Ferreira           SP          5   \n",
       "2  2.226512  01/01/2020      Thiago Silva           RJ          4   \n",
       "3  1.257926  01/01/2020    Camila Ribeiro           RJ          4   \n",
       "4  2.039059  01/01/2020     Juliana Costa           RJ          1   \n",
       "\n",
       "   tipo_pagamento  parcelas  \n",
       "0  cartao_credito         3  \n",
       "1  cartao_credito         1  \n",
       "2  cartao_credito         4  \n",
       "3          boleto         1  \n",
       "4   cartao_debito         1  "
      ]
     },
     "execution_count": 3,
     "metadata": {},
     "output_type": "execute_result"
    }
   ],
   "source": [
    "df.head()"
   ]
  },
  {
   "cell_type": "code",
   "execution_count": 5,
   "metadata": {},
   "outputs": [],
   "source": [
    "pd.set_option('display.precision', 2)"
   ]
  },
  {
   "cell_type": "code",
   "execution_count": 11,
   "metadata": {},
   "outputs": [],
   "source": [
    "df = df.rename(columns={'Unnamed: 0': 'id'})"
   ]
  },
  {
   "cell_type": "code",
   "execution_count": 12,
   "metadata": {},
   "outputs": [
    {
     "name": "stdout",
     "output_type": "stream",
     "text": [
      "O DataFrame não contém valores nulos.\n"
     ]
    }
   ],
   "source": [
    "is_null = df.isnull().values.any()\n",
    "\n",
    "if is_null:\n",
    "    print(\"O DataFrame contém valores nulos.\")\n",
    "else:\n",
    "    print(\"O DataFrame não contém valores nulos.\")"
   ]
  },
  {
   "cell_type": "code",
   "execution_count": 13,
   "metadata": {},
   "outputs": [
    {
     "data": {
      "text/plain": [
       "id                  int64\n",
       "produto            object\n",
       "categoria          object\n",
       "preco             float64\n",
       "frete             float64\n",
       "data_compra        object\n",
       "vendedor           object\n",
       "local_compra       object\n",
       "avaliacao           int64\n",
       "tipo_pagamento     object\n",
       "parcelas            int64\n",
       "dtype: object"
      ]
     },
     "execution_count": 13,
     "metadata": {},
     "output_type": "execute_result"
    }
   ],
   "source": [
    "df.dtypes"
   ]
  },
  {
   "cell_type": "code",
   "execution_count": 16,
   "metadata": {},
   "outputs": [
    {
     "name": "stdout",
     "output_type": "stream",
     "text": [
      "id                         int64\n",
      "produto                   object\n",
      "categoria                 object\n",
      "preco                    float64\n",
      "frete                    float64\n",
      "data_compra       datetime64[ns]\n",
      "vendedor                  object\n",
      "local_compra              object\n",
      "avaliacao                  int64\n",
      "tipo_pagamento            object\n",
      "parcelas                   int64\n",
      "dtype: object\n"
     ]
    }
   ],
   "source": [
    "# Convertendo a coluna 'data_compra' para o formato de data\n",
    "df['data_compra'] = pd.to_datetime(df['data_compra'], dayfirst=True)\n",
    "\n",
    "# Verificando os tipos de dados após a conversão\n",
    "print(df.dtypes)\n"
   ]
  },
  {
   "cell_type": "code",
   "execution_count": 17,
   "metadata": {},
   "outputs": [
    {
     "data": {
      "text/html": [
       "<div>\n",
       "<style scoped>\n",
       "    .dataframe tbody tr th:only-of-type {\n",
       "        vertical-align: middle;\n",
       "    }\n",
       "\n",
       "    .dataframe tbody tr th {\n",
       "        vertical-align: top;\n",
       "    }\n",
       "\n",
       "    .dataframe thead th {\n",
       "        text-align: right;\n",
       "    }\n",
       "</style>\n",
       "<table border=\"1\" class=\"dataframe\">\n",
       "  <thead>\n",
       "    <tr style=\"text-align: right;\">\n",
       "      <th></th>\n",
       "      <th>id</th>\n",
       "      <th>produto</th>\n",
       "      <th>categoria</th>\n",
       "      <th>preco</th>\n",
       "      <th>frete</th>\n",
       "      <th>data_compra</th>\n",
       "      <th>vendedor</th>\n",
       "      <th>local_compra</th>\n",
       "      <th>avaliacao</th>\n",
       "      <th>tipo_pagamento</th>\n",
       "      <th>parcelas</th>\n",
       "    </tr>\n",
       "  </thead>\n",
       "  <tbody>\n",
       "    <tr>\n",
       "      <th>0</th>\n",
       "      <td>0</td>\n",
       "      <td>Modelagem preditiva</td>\n",
       "      <td>livros</td>\n",
       "      <td>92.45</td>\n",
       "      <td>5.61</td>\n",
       "      <td>2020-01-01</td>\n",
       "      <td>Thiago Silva</td>\n",
       "      <td>BA</td>\n",
       "      <td>1</td>\n",
       "      <td>cartao_credito</td>\n",
       "      <td>3</td>\n",
       "    </tr>\n",
       "    <tr>\n",
       "      <th>1</th>\n",
       "      <td>1</td>\n",
       "      <td>Iniciando em programação</td>\n",
       "      <td>livros</td>\n",
       "      <td>43.84</td>\n",
       "      <td>0.00</td>\n",
       "      <td>2020-01-01</td>\n",
       "      <td>Mariana Ferreira</td>\n",
       "      <td>SP</td>\n",
       "      <td>5</td>\n",
       "      <td>cartao_credito</td>\n",
       "      <td>1</td>\n",
       "    </tr>\n",
       "    <tr>\n",
       "      <th>2</th>\n",
       "      <td>2</td>\n",
       "      <td>Pandeiro</td>\n",
       "      <td>instrumentos musicais</td>\n",
       "      <td>87.18</td>\n",
       "      <td>2.23</td>\n",
       "      <td>2020-01-01</td>\n",
       "      <td>Thiago Silva</td>\n",
       "      <td>RJ</td>\n",
       "      <td>4</td>\n",
       "      <td>cartao_credito</td>\n",
       "      <td>4</td>\n",
       "    </tr>\n",
       "    <tr>\n",
       "      <th>3</th>\n",
       "      <td>3</td>\n",
       "      <td>Corda de pular</td>\n",
       "      <td>esporte e lazer</td>\n",
       "      <td>13.65</td>\n",
       "      <td>1.26</td>\n",
       "      <td>2020-01-01</td>\n",
       "      <td>Camila Ribeiro</td>\n",
       "      <td>RJ</td>\n",
       "      <td>4</td>\n",
       "      <td>boleto</td>\n",
       "      <td>1</td>\n",
       "    </tr>\n",
       "    <tr>\n",
       "      <th>4</th>\n",
       "      <td>4</td>\n",
       "      <td>Dinossauro Rex</td>\n",
       "      <td>brinquedos</td>\n",
       "      <td>28.32</td>\n",
       "      <td>2.04</td>\n",
       "      <td>2020-01-01</td>\n",
       "      <td>Juliana Costa</td>\n",
       "      <td>RJ</td>\n",
       "      <td>1</td>\n",
       "      <td>cartao_debito</td>\n",
       "      <td>1</td>\n",
       "    </tr>\n",
       "  </tbody>\n",
       "</table>\n",
       "</div>"
      ],
      "text/plain": [
       "   id                   produto              categoria  preco  frete   \n",
       "0   0       Modelagem preditiva                 livros  92.45   5.61  \\\n",
       "1   1  Iniciando em programação                 livros  43.84   0.00   \n",
       "2   2                  Pandeiro  instrumentos musicais  87.18   2.23   \n",
       "3   3            Corda de pular        esporte e lazer  13.65   1.26   \n",
       "4   4            Dinossauro Rex             brinquedos  28.32   2.04   \n",
       "\n",
       "  data_compra          vendedor local_compra  avaliacao  tipo_pagamento   \n",
       "0  2020-01-01      Thiago Silva           BA          1  cartao_credito  \\\n",
       "1  2020-01-01  Mariana Ferreira           SP          5  cartao_credito   \n",
       "2  2020-01-01      Thiago Silva           RJ          4  cartao_credito   \n",
       "3  2020-01-01    Camila Ribeiro           RJ          4          boleto   \n",
       "4  2020-01-01     Juliana Costa           RJ          1   cartao_debito   \n",
       "\n",
       "   parcelas  \n",
       "0         3  \n",
       "1         1  \n",
       "2         4  \n",
       "3         1  \n",
       "4         1  "
      ]
     },
     "execution_count": 17,
     "metadata": {},
     "output_type": "execute_result"
    }
   ],
   "source": [
    "df.head()"
   ]
  },
  {
   "cell_type": "code",
   "execution_count": 18,
   "metadata": {},
   "outputs": [],
   "source": [
    "df.to_csv('dados/final_vendas.csv', index=False)"
   ]
  }
 ],
 "metadata": {
  "kernelspec": {
   "display_name": "Python 3",
   "language": "python",
   "name": "python3"
  },
  "language_info": {
   "codemirror_mode": {
    "name": "ipython",
    "version": 3
   },
   "file_extension": ".py",
   "mimetype": "text/x-python",
   "name": "python",
   "nbconvert_exporter": "python",
   "pygments_lexer": "ipython3",
   "version": "3.11.2"
  }
 },
 "nbformat": 4,
 "nbformat_minor": 2
}
